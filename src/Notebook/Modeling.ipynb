{
 "cells": [
  {
   "cell_type": "code",
   "execution_count": 1,
   "id": "bf762044",
   "metadata": {},
   "outputs": [],
   "source": [
    "import pandas as pd\n",
    "import numpy as np\n",
    "import matplotlib.pyplot as plt\n",
    "from collections import Counter\n",
    "from collections import defaultdict\n",
    "from nltk.tokenize import word_tokenize \n",
    "from collections import Counter\n",
    "import re\n"
   ]
  },
  {
   "cell_type": "code",
   "execution_count": 2,
   "id": "dbfd1521",
   "metadata": {},
   "outputs": [
    {
     "name": "stdout",
     "output_type": "stream",
     "text": [
      "<class 'pandas.core.frame.DataFrame'>\n",
      "RangeIndex: 9863 entries, 0 to 9862\n",
      "Data columns (total 33 columns):\n",
      " #   Column             Non-Null Count  Dtype  \n",
      "---  ------             --------------  -----  \n",
      " 0   original_title     9863 non-null   object \n",
      " 1   id                 9863 non-null   int64  \n",
      " 2   original_language  9863 non-null   object \n",
      " 3   popularity         9863 non-null   float64\n",
      " 4   release_date       9839 non-null   object \n",
      " 5   vote_average       9863 non-null   float64\n",
      " 6   vote_count         9863 non-null   int64  \n",
      " 7   genre              9863 non-null   object \n",
      " 8   overview           9863 non-null   object \n",
      " 9   revenue            9863 non-null   int64  \n",
      " 10  runtime            9858 non-null   float64\n",
      " 11  tagline            7077 non-null   object \n",
      " 12  summary_length     9863 non-null   int64  \n",
      " 13  Unnamed: 15        9863 non-null   int64  \n",
      " 14  Action             9863 non-null   int64  \n",
      " 15  Adventure          9863 non-null   int64  \n",
      " 16  Animation          9863 non-null   int64  \n",
      " 17  Comedy             9863 non-null   int64  \n",
      " 18  Crime              9863 non-null   int64  \n",
      " 19  Documentary        9863 non-null   int64  \n",
      " 20  Drama              9863 non-null   int64  \n",
      " 21  Family             9863 non-null   int64  \n",
      " 22  Fantasy            9863 non-null   int64  \n",
      " 23  History            9863 non-null   int64  \n",
      " 24  Horror             9863 non-null   int64  \n",
      " 25  Music              9863 non-null   int64  \n",
      " 26  Mystery            9863 non-null   int64  \n",
      " 27  Romance            9863 non-null   int64  \n",
      " 28  Science Fiction    9863 non-null   int64  \n",
      " 29  TV Movie           9863 non-null   int64  \n",
      " 30  Thriller           9863 non-null   int64  \n",
      " 31  War                9863 non-null   int64  \n",
      " 32  Western            9863 non-null   int64  \n",
      "dtypes: float64(3), int64(24), object(6)\n",
      "memory usage: 2.5+ MB\n"
     ]
    }
   ],
   "source": [
    "movies = pd.read_csv('Data/cleaned_overview_df.csv')\n",
    "movies.info()"
   ]
  },
  {
   "cell_type": "code",
   "execution_count": 3,
   "id": "7e306a78",
   "metadata": {},
   "outputs": [],
   "source": [
    "too_general = ['Animation', 'TV Movie', 'Adventure', 'War', 'Family', 'Thriller'] \n",
    "movie_genre = [i.strip('[]').split(\",\") for i in movies.genre]\n",
    "for movie in (movie_genre):\n",
    "    for number, genres in enumerate(movie):\n",
    "        movie[number] = genres.strip(\"' '\")\n",
    "movies['genre'] =  movie_genre"
   ]
  },
  {
   "cell_type": "code",
   "execution_count": 4,
   "id": "6c80e9f6",
   "metadata": {},
   "outputs": [
    {
     "name": "stderr",
     "output_type": "stream",
     "text": [
      "C:\\Users\\sangr\\AppData\\Local\\Temp/ipykernel_17076/2544758649.py:6: SettingWithCopyWarning: \n",
      "A value is trying to be set on a copy of a slice from a DataFrame\n",
      "\n",
      "See the caveats in the documentation: https://pandas.pydata.org/pandas-docs/stable/user_guide/indexing.html#returning-a-view-versus-a-copy\n",
      "  movies['genre'][i] = genres\n"
     ]
    }
   ],
   "source": [
    "new = []\n",
    "for i, genres in enumerate(movies['genre']):\n",
    "    for genre in genres:\n",
    "        if genre in too_general:\n",
    "            genres.remove(genre)\n",
    "    movies['genre'][i] = genres"
   ]
  },
  {
   "cell_type": "code",
   "execution_count": 5,
   "id": "afe675a2",
   "metadata": {},
   "outputs": [],
   "source": [
    "from sklearn.naive_bayes import MultinomialNB\n",
    "from sklearn import metrics\n",
    "from skmultilearn.problem_transform import BinaryRelevance\n",
    "brelevance = BinaryRelevance(classifier=MultinomialNB(alpha=1.0, class_prior=None, fit_prior=True), require_dense=[True, True])\n"
   ]
  },
  {
   "cell_type": "code",
   "execution_count": 6,
   "id": "e168ddd4",
   "metadata": {},
   "outputs": [],
   "source": [
    "movies_df = movies[~movies['genre'].isin([[''], []])]"
   ]
  },
  {
   "cell_type": "code",
   "execution_count": 7,
   "id": "b43b5bdc",
   "metadata": {},
   "outputs": [],
   "source": [
    "from sklearn.model_selection import train_test_split\n",
    "from sklearn.feature_extraction.text import CountVectorizer\n",
    "vectorizer = CountVectorizer()\n",
    "X= movies_df['overview']\n",
    "y = movies_df['Action']\n",
    "y = y.values.reshape(-1,1)\n",
    "X_train_count = vectorizer.fit_transform(X)\n",
    "X_train, X_test, y_train, y_test = train_test_split(X_train_count,y, test_size = .3, random_state = 42)"
   ]
  },
  {
   "cell_type": "code",
   "execution_count": 18,
   "id": "75e02aa0",
   "metadata": {},
   "outputs": [
    {
     "data": {
      "text/plain": [
       "0.8090783090783091"
      ]
     },
     "execution_count": 18,
     "metadata": {},
     "output_type": "execute_result"
    }
   ],
   "source": [
    "from skmultilearn.problem_transform import BinaryRelevance\n",
    "from sklearn.naive_bayes import MultinomialNB\n",
    "from sklearn.metrics import accuracy_score\n",
    "binary_rel_clf = BinaryRelevance(MultinomialNB())\n",
    "binary_rel_clf.fit(X_train, y_train)\n",
    "br_prediction = binary_rel_clf.predict(X_test)\n",
    "br_prediction.toarray()\n",
    "accuracy_score(br_prediction.toarray(), y_test)"
   ]
  },
  {
   "cell_type": "code",
   "execution_count": 17,
   "id": "65dc847d",
   "metadata": {},
   "outputs": [
    {
     "data": {
      "text/plain": [
       "0.8090783090783091"
      ]
     },
     "execution_count": 17,
     "metadata": {},
     "output_type": "execute_result"
    }
   ],
   "source": [
    "accuracy_score(br_prediction.toarray(), y_test)\n"
   ]
  },
  {
   "cell_type": "code",
   "execution_count": null,
   "id": "485d6ab9",
   "metadata": {},
   "outputs": [],
   "source": [
    "br_prediction"
   ]
  },
  {
   "cell_type": "code",
   "execution_count": null,
   "id": "c91e8803",
   "metadata": {},
   "outputs": [],
   "source": [
    "movies_df"
   ]
  },
  {
   "cell_type": "code",
   "execution_count": null,
   "id": "7086dc03",
   "metadata": {},
   "outputs": [],
   "source": []
  }
 ],
 "metadata": {
  "kernelspec": {
   "display_name": "Python 3 (ipykernel)",
   "language": "python",
   "name": "python3"
  },
  "language_info": {
   "codemirror_mode": {
    "name": "ipython",
    "version": 3
   },
   "file_extension": ".py",
   "mimetype": "text/x-python",
   "name": "python",
   "nbconvert_exporter": "python",
   "pygments_lexer": "ipython3",
   "version": "3.9.7"
  }
 },
 "nbformat": 4,
 "nbformat_minor": 5
}
