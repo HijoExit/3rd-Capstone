{
 "cells": [
  {
   "cell_type": "code",
   "execution_count": 1,
   "id": "bf762044",
   "metadata": {},
   "outputs": [],
   "source": [
    "import pandas as pd\n",
    "import numpy as np\n",
    "import matplotlib.pyplot as plt\n",
    "from collections import Counter\n",
    "from collections import defaultdict\n",
    "from nltk.tokenize import word_tokenize \n",
    "from collections import Counter\n",
    "import re\n"
   ]
  },
  {
   "cell_type": "code",
   "execution_count": 2,
   "id": "dbfd1521",
   "metadata": {},
   "outputs": [
    {
     "name": "stdout",
     "output_type": "stream",
     "text": [
      "<class 'pandas.core.frame.DataFrame'>\n",
      "RangeIndex: 9863 entries, 0 to 9862\n",
      "Data columns (total 33 columns):\n",
      " #   Column             Non-Null Count  Dtype  \n",
      "---  ------             --------------  -----  \n",
      " 0   original_title     9863 non-null   object \n",
      " 1   id                 9863 non-null   int64  \n",
      " 2   original_language  9863 non-null   object \n",
      " 3   popularity         9863 non-null   float64\n",
      " 4   release_date       9839 non-null   object \n",
      " 5   vote_average       9863 non-null   float64\n",
      " 6   vote_count         9863 non-null   int64  \n",
      " 7   genre              9863 non-null   object \n",
      " 8   overview           9863 non-null   object \n",
      " 9   revenue            9863 non-null   int64  \n",
      " 10  runtime            9858 non-null   float64\n",
      " 11  tagline            7077 non-null   object \n",
      " 12  summary_length     9863 non-null   int64  \n",
      " 13  Unnamed: 15        9863 non-null   int64  \n",
      " 14  Action             9863 non-null   int64  \n",
      " 15  Adventure          9863 non-null   int64  \n",
      " 16  Animation          9863 non-null   int64  \n",
      " 17  Comedy             9863 non-null   int64  \n",
      " 18  Crime              9863 non-null   int64  \n",
      " 19  Documentary        9863 non-null   int64  \n",
      " 20  Drama              9863 non-null   int64  \n",
      " 21  Family             9863 non-null   int64  \n",
      " 22  Fantasy            9863 non-null   int64  \n",
      " 23  History            9863 non-null   int64  \n",
      " 24  Horror             9863 non-null   int64  \n",
      " 25  Music              9863 non-null   int64  \n",
      " 26  Mystery            9863 non-null   int64  \n",
      " 27  Romance            9863 non-null   int64  \n",
      " 28  Science Fiction    9863 non-null   int64  \n",
      " 29  TV Movie           9863 non-null   int64  \n",
      " 30  Thriller           9863 non-null   int64  \n",
      " 31  War                9863 non-null   int64  \n",
      " 32  Western            9863 non-null   int64  \n",
      "dtypes: float64(3), int64(24), object(6)\n",
      "memory usage: 2.5+ MB\n"
     ]
    }
   ],
   "source": [
    "movies = pd.read_csv('Data/cleaned_overview_df.csv')\n",
    "movies.info()"
   ]
  },
  {
   "cell_type": "code",
   "execution_count": 3,
   "id": "7e306a78",
   "metadata": {},
   "outputs": [],
   "source": [
    "movie_genre = [i.strip('[]').split(\",\") for i in movies.genre]\n",
    "for movie in (movie_genre):\n",
    "    for number, genres in enumerate(movie):\n",
    "        movie[number] = genres.strip(\"' '\")\n",
    "movies['genre'] =  movie_genre"
   ]
  },
  {
   "cell_type": "code",
   "execution_count": 4,
   "id": "6c80e9f6",
   "metadata": {},
   "outputs": [],
   "source": [
    "most_frequent = ['Comedy', 'Action', 'Drama']\n",
    "new = []\n",
    "for i, genres in enumerate(movies['genre']):\n",
    "    for genre in genres[:]:\n",
    "        if genre not in most_frequent:\n",
    "            genres.remove(genre)\n",
    "    new.append(genres)"
   ]
  },
  {
   "cell_type": "code",
   "execution_count": 5,
   "id": "18722f3c",
   "metadata": {},
   "outputs": [],
   "source": [
    "movies = pd.read_csv('Data/cleaned_overview_df.csv')\n",
    "for i in movies.index:\n",
    "    if len(movies['genre'][i]) > len(new[i]):\n",
    "        new[i].append(\"Others\")"
   ]
  },
  {
   "cell_type": "code",
   "execution_count": 6,
   "id": "cc6292ab",
   "metadata": {},
   "outputs": [],
   "source": [
    "movies['new genre'] = new"
   ]
  },
  {
   "cell_type": "code",
   "execution_count": 7,
   "id": "afe675a2",
   "metadata": {},
   "outputs": [],
   "source": [
    "from sklearn.naive_bayes import MultinomialNB\n",
    "from sklearn import metrics\n",
    "from skmultilearn.problem_transform import BinaryRelevance\n",
    "brelevance = BinaryRelevance(classifier=MultinomialNB(alpha=1.0, class_prior=None, fit_prior=True), require_dense=[True, True])\n"
   ]
  },
  {
   "cell_type": "code",
   "execution_count": 8,
   "id": "e168ddd4",
   "metadata": {},
   "outputs": [],
   "source": [
    "movies_df = movies[~movies['new genre'].isin([[''], []])]"
   ]
  },
  {
   "cell_type": "code",
   "execution_count": 9,
   "id": "b43b5bdc",
   "metadata": {},
   "outputs": [],
   "source": [
    "from sklearn.model_selection import train_test_split\n",
    "from sklearn.feature_extraction.text import CountVectorizer\n",
    "from sklearn.feature_extraction.text import TfidfVectorizer\n",
    "from sklearn.preprocessing import MultiLabelBinarizer\n",
    "multilabel_binarizer = MultiLabelBinarizer()\n",
    "multilabel_binarizer.fit(movies_df['new genre'])\n",
    "# transform target variable\n",
    "y = multilabel_binarizer.transform(movies_df['new genre'])\n",
    "vectorizer = CountVectorizer()\n",
    "X= movies_df['overview']\n",
    "X_train_count = vectorizer.fit_transform(X)\n",
    "X_train, X_test, y_train, y_test = train_test_split(X_train_count,y, test_size = .3, random_state = 42)\n",
    "vectorizer = TfidfVectorizer()\n",
    "X= movies_df['overview']\n",
    "X_train_count = vectorizer.fit_transform(X)\n",
    "X_train_TF, X_test_TF, y_train_TF, y_test_TF = train_test_split(X_train_count,y, test_size = .3, random_state = 42)"
   ]
  },
  {
   "cell_type": "code",
   "execution_count": 25,
   "id": "5c155f11",
   "metadata": {},
   "outputs": [
    {
     "data": {
      "text/plain": [
       "array([[1, 0, 0, 1],\n",
       "       [1, 0, 0, 1],\n",
       "       [1, 0, 0, 1],\n",
       "       ...,\n",
       "       [1, 0, 1, 1],\n",
       "       [0, 0, 1, 1],\n",
       "       [0, 0, 1, 1]])"
      ]
     },
     "execution_count": 25,
     "metadata": {},
     "output_type": "execute_result"
    }
   ],
   "source": [
    "y"
   ]
  },
  {
   "cell_type": "code",
   "execution_count": 26,
   "id": "2801a55f",
   "metadata": {},
   "outputs": [
    {
     "data": {
      "text/plain": [
       "0               [Action, Others]\n",
       "1               [Action, Others]\n",
       "2               [Action, Others]\n",
       "3               [Action, Others]\n",
       "4       [Comedy, Action, Others]\n",
       "                  ...           \n",
       "9858            [Comedy, Others]\n",
       "9859             [Drama, Others]\n",
       "9860     [Drama, Action, Others]\n",
       "9861             [Drama, Others]\n",
       "9862             [Drama, Others]\n",
       "Name: new genre, Length: 9863, dtype: object"
      ]
     },
     "execution_count": 26,
     "metadata": {},
     "output_type": "execute_result"
    }
   ],
   "source": [
    "movies_df['new genre']"
   ]
  },
  {
   "cell_type": "code",
   "execution_count": 10,
   "id": "75e02aa0",
   "metadata": {},
   "outputs": [
    {
     "name": "stdout",
     "output_type": "stream",
     "text": [
      "accuracy score: 0.43933761405880367 f1 score: 0.8156730939324254\n",
      "accuracy score: 0.28861101723555255 f1 score: 0.7105554326178358\n"
     ]
    }
   ],
   "source": [
    "from skmultilearn.problem_transform import BinaryRelevance\n",
    "from sklearn.naive_bayes import MultinomialNB\n",
    "from sklearn.metrics import accuracy_score\n",
    "from sklearn.metrics import f1_score\n",
    "binary_rel_clf = BinaryRelevance(MultinomialNB())\n",
    "binary_rel_clf.fit(X_train, y_train)\n",
    "y_pred = binary_rel_clf.predict(X_test)\n",
    "mnb_score = accuracy_score(y_pred, y_test)\n",
    "mnb_f1score =  f1_score(y_test, y_pred, average=\"micro\")\n",
    "print(\"accuracy score:\", accuracy_score(y_pred, y_test), \"f1 score:\", f1_score(y_test, y_pred, average=\"micro\"))\n",
    "binary_rel_clf.fit(X_train_TF, y_train_TF)\n",
    "y_pred = binary_rel_clf.predict(X_test_TF)\n",
    "mnb_f1score_TF = f1_score(y_test_TF, y_pred, average=\"micro\")\n",
    "print(\"accuracy score:\", accuracy_score(y_pred, y_test_TF), \"f1 score:\", f1_score(y_test_TF, y_pred, average=\"micro\"))"
   ]
  },
  {
   "cell_type": "code",
   "execution_count": 11,
   "id": "59a2e363",
   "metadata": {
    "scrolled": true
   },
   "outputs": [
    {
     "name": "stderr",
     "output_type": "stream",
     "text": [
      "C:\\Users\\sangr\\anaconda3\\lib\\site-packages\\sklearn\\multiclass.py:80: UserWarning: Label 3 is present in all training examples.\n",
      "  warnings.warn(\"Label %s is present in all training examples.\" %\n"
     ]
    },
    {
     "name": "stdout",
     "output_type": "stream",
     "text": [
      "accuracy score: 0.4133153092260899 f1 score: 0.7998916869753587\n",
      "accuracy score: 0.41737073335586344 f1 score: 0.7870635941054298\n"
     ]
    },
    {
     "name": "stderr",
     "output_type": "stream",
     "text": [
      "C:\\Users\\sangr\\anaconda3\\lib\\site-packages\\sklearn\\multiclass.py:80: UserWarning: Label 3 is present in all training examples.\n",
      "  warnings.warn(\"Label %s is present in all training examples.\" %\n"
     ]
    }
   ],
   "source": [
    "from sklearn.linear_model import LogisticRegression\n",
    "from sklearn.multiclass import OneVsRestClassifier\n",
    "lr = LogisticRegression()\n",
    "clf = OneVsRestClassifier(lr)\n",
    "clf.fit(X_train, y_train)\n",
    "y_pred = clf.predict(X_test)\n",
    "lr_score = accuracy_score(y_pred, y_test)\n",
    "lr_f1score =  f1_score(y_test, y_pred, average=\"micro\")\n",
    "print(\"accuracy score:\", accuracy_score(y_pred, y_test), \"f1 score:\", f1_score(y_test, y_pred, average=\"micro\"))\n",
    "clf.fit(X_train_TF, y_train_TF)\n",
    "y_pred = clf.predict(X_test_TF)\n",
    "lr_f1score_TF = f1_score(y_test_TF, y_pred, average=\"micro\")\n",
    "print(\"accuracy score:\", accuracy_score(y_pred, y_test_TF), \"f1 score:\", f1_score(y_test_TF, y_pred, average=\"micro\"))\n"
   ]
  },
  {
   "cell_type": "code",
   "execution_count": 12,
   "id": "d143ff25",
   "metadata": {},
   "outputs": [
    {
     "name": "stdout",
     "output_type": "stream",
     "text": [
      "accuracy score: 0.241635687732342 f1 score: 0.6873294772454436\n",
      "accuracy score: 0.3514700912470429 f1 score: 0.7623218112363738\n"
     ]
    }
   ],
   "source": [
    "from sklearn.neighbors import KNeighborsClassifier\n",
    "knn_clf = BinaryRelevance(KNeighborsClassifier())\n",
    "knn_clf.fit(X_train, y_train)\n",
    "y_pred = knn_clf.predict(X_test)\n",
    "knn_score = accuracy_score(y_pred, y_test)\n",
    "knn_f1score =  f1_score(y_test, y_pred, average=\"micro\")\n",
    "print(\"accuracy score:\", accuracy_score(y_pred, y_test), \"f1 score:\", f1_score(y_test, y_pred, average=\"micro\"))\n",
    "knn_clf.fit(X_train_TF, y_train_TF)\n",
    "y_pred = knn_clf.predict(X_test_TF)\n",
    "knn_f1score_TF = f1_score(y_test_TF, y_pred, average=\"micro\")\n",
    "print(\"accuracy score:\", accuracy_score(y_pred, y_test_TF), \"f1 score:\", f1_score(y_test_TF, y_pred, average=\"micro\"))\n"
   ]
  },
  {
   "cell_type": "code",
   "execution_count": 13,
   "id": "b902a8b4",
   "metadata": {},
   "outputs": [
    {
     "name": "stdout",
     "output_type": "stream",
     "text": [
      "accuracy score: 0.2284555593105779 f1 score: 0.7197583849944365\n",
      "accuracy score: 0.22608989523487666 f1 score: 0.716556929500562\n"
     ]
    }
   ],
   "source": [
    "from sklearn.naive_bayes import GaussianNB\n",
    "gnb_clf = BinaryRelevance(GaussianNB()) \n",
    "gnb_clf.fit(X_train, y_train)\n",
    "y_pred = gnb_clf.predict(X_test)\n",
    "gnb_score = accuracy_score(y_pred, y_test)\n",
    "gnb_f1score =  f1_score(y_test, y_pred, average=\"micro\")\n",
    "print(\"accuracy score:\", accuracy_score(y_pred, y_test), \"f1 score:\", f1_score(y_test, y_pred, average=\"micro\"))\n",
    "gnb_clf.fit(X_train_TF, y_train_TF)\n",
    "y_pred = gnb_clf.predict(X_test_TF)\n",
    "gnb_f1score_TF = f1_score(y_test_TF, y_pred, average=\"micro\")\n",
    "print(\"accuracy score:\", accuracy_score(y_pred, y_test_TF), \"f1 score:\", f1_score(y_test_TF, y_pred, average=\"micro\"))\n"
   ]
  },
  {
   "cell_type": "code",
   "execution_count": 14,
   "id": "13011a5f",
   "metadata": {},
   "outputs": [
    {
     "data": {
      "image/png": "[encoded data removed]",
      "text/plain": [
       "<Figure size 1080x720 with 1 Axes>"
      ]
     },
     "metadata": {
      "needs_background": "light"
     },
     "output_type": "display_data"
    }
   ],
   "source": [
    "import matplotlib.pyplot as plt\n",
    "f1_score = [mnb_f1score, lr_f1score,  knn_f1score,  gnb_f1score]\n",
    "f1_score_TF = [mnb_f1score_TF, lr_f1score_TF,  knn_f1score_TF,  gnb_f1score_TF]\n",
    "X_axis = np.arange(len(f1_score))\n",
    "plt.figure(figsize = (15,10))\n",
    "X = ['Binary','LR','KNN','GaussianNB']\n",
    "plt.bar(X_axis - 0.2, f1_score, .4, label = 'Counter')\n",
    "plt.bar(X_axis + 0.2, f1_score_TF,.4, label =  'TFIDF')\n",
    "plt.xticks(X_axis, X )\n",
    "plt.xlabel(\"Algorithm\")\n",
    "plt.ylabel(\"Accuracy score\")\n",
    "plt.title(\"Alogirthm accuracy score comparison\")\n",
    "plt.legend(loc='upper right')\n",
    "\n",
    "plt.show()"
   ]
  },
  {
   "cell_type": "code",
   "execution_count": null,
   "id": "97071373",
   "metadata": {},
   "outputs": [],
   "source": []
  },
  {
   "cell_type": "code",
   "execution_count": 15,
   "id": "41f690f2",
   "metadata": {},
   "outputs": [],
   "source": [
    "movie_prediction = multilabel_binarizer.inverse_transform(y_pred)\n",
    "actual = multilabel_binarizer.inverse_transform(y_test)"
   ]
  },
  {
   "cell_type": "code",
   "execution_count": 16,
   "id": "72ca7943",
   "metadata": {},
   "outputs": [
    {
     "name": "stdout",
     "output_type": "stream",
     "text": [
      "('Drama', 'Others')\n",
      "('Drama', 'Others')\n"
     ]
    }
   ],
   "source": [
    "print(movie_prediction[1])\n",
    "print(actual[1])"
   ]
  },
  {
   "cell_type": "code",
   "execution_count": 17,
   "id": "ba7be2e2",
   "metadata": {},
   "outputs": [],
   "source": [
    "import string\n",
    "from nltk.corpus import stopwords\n",
    "from nltk.stem import WordNetLemmatizer\n",
    "lemmatizer = WordNetLemmatizer()\n",
    "stop = set(stopwords.words('english') + list(string.punctuation)+list(str.maketrans(\"'\",\"`\", \"'s\")))\n",
    "from nltk import pos_tag\n",
    "\n",
    "def remove_stop(x):\n",
    "    words = re.findall('[A-za-z0-9]{2,20}', x.lower())\n",
    "    for i, e in enumerate(words):\n",
    "        words[i] = lemmatizer.lemmatize(e)\n",
    "        for word in words[:]:\n",
    "            if word in stop:\n",
    "                words.remove(word)\n",
    "    return(\" \".join(words))\n",
    "\n",
    "\n",
    "def remove_name(x):\n",
    "    for plot in x: \n",
    "        tagged_sentence = pos_tag(x.split())\n",
    "        edited_sentence = [word for word,tag in tagged_sentence if tag != 'NNP' and tag != 'NNPS']\n",
    "        new_sentence =(' '.join(edited_sentence))\n",
    "        return(new_sentence)\n",
    "def cleaned_summary(a):\n",
    "    a = remove_name(a)\n",
    "    return(pd.DataFrame({'plot': [remove_stop(a)]}))"
   ]
  },
  {
   "cell_type": "code",
   "execution_count": 18,
   "id": "b544d2ea",
   "metadata": {},
   "outputs": [],
   "source": [
    "a = \"Much-loved, lengthy, acerbic drama of theatre life about a young actress who insinuates her way into Broadway stage star's life. Wit and sarcasm reign supreme (e.g., Fasten your seat belts. It's going to be a bumpy night) and George Sanders is perfect as Addison De Witt - a cynical, egotistical columnist/critic. The literate film features Davis as aging, bitchy accomplished star Margo Channing who takes the seemingly-naive and innocent fan Eve (Baxter) under her wing. As the film opens, the rising, unscrupulous star accepts an award for best newcomer on the Broadway scene. Then, in a flashback, we see the shameless starlet insinuating herself into the life of her idol, and scheming to steal her theatrical roles and her lover Bill (Merrill). By ruthlessly exploiting the older womans kindness and hospitality, she manages to achieve her present success while almost destroying the veteran star in the process. The ending of the film returns to the awards banquet to find the starlet clinging to her trophy, with another fan in the wings. Also with Marilyn Monroe in a bit part. Academy Award Nominations (record-setting): 14, including Best Actress--Anne Baxter, Best Actress--Bette Davis, Best Supporting Actress--Celeste Holm, Best Supporting Actress--Thelma Ritter. Academy Awards: 6, including Best Picture, Best Director, Best Screenplay, Best Supporting Actor--George Sanders, Best B/W Costume Design, Best Sound.\""
   ]
  },
  {
   "cell_type": "code",
   "execution_count": 19,
   "id": "31100a62",
   "metadata": {},
   "outputs": [
    {
     "data": {
      "text/plain": [
       "[('Others',)]"
      ]
     },
     "execution_count": 19,
     "metadata": {},
     "output_type": "execute_result"
    }
   ],
   "source": [
    "plot = cleaned_summary(a)\n",
    "b = vectorizer.transform(plot)\n",
    "prediction = binary_rel_clf.predict(b)\n",
    "#multilabel_binarizer.inverse_transform(prediction)\n",
    "prediction = prediction.toarray()\n",
    "multilabel_binarizer.inverse_transform(prediction)"
   ]
  },
  {
   "cell_type": "code",
   "execution_count": 20,
   "id": "1b93c405",
   "metadata": {},
   "outputs": [
    {
     "data": {
      "text/plain": [
       "array([0, 1, 2, 3])"
      ]
     },
     "execution_count": 20,
     "metadata": {},
     "output_type": "execute_result"
    }
   ],
   "source": [
    "clf.classes_"
   ]
  },
  {
   "cell_type": "code",
   "execution_count": 21,
   "id": "44343b11",
   "metadata": {},
   "outputs": [
    {
     "data": {
      "text/plain": [
       "array([[1, 1, 0, ..., 0, 0, list(['Action', 'Others'])],\n",
       "       [1, 1, 0, ..., 0, 0, list(['Action', 'Others'])],\n",
       "       [1, 1, 0, ..., 0, 0, list(['Action', 'Others'])],\n",
       "       ...,\n",
       "       [1, 0, 0, ..., 1, 0, list(['Drama', 'Action', 'Others'])],\n",
       "       [0, 0, 0, ..., 0, 0, list(['Drama', 'Others'])],\n",
       "       [0, 0, 0, ..., 0, 0, list(['Drama', 'Others'])]], dtype=object)"
      ]
     },
     "execution_count": 21,
     "metadata": {},
     "output_type": "execute_result"
    }
   ],
   "source": [
    "np.array(movies_df.iloc[:,14:])"
   ]
  },
  {
   "cell_type": "code",
   "execution_count": 22,
   "id": "9b5b25d3",
   "metadata": {},
   "outputs": [
    {
     "data": {
      "text/plain": [
       "array(['Action', 'Comedy', 'Drama', 'Others'], dtype=object)"
      ]
     },
     "execution_count": 22,
     "metadata": {},
     "output_type": "execute_result"
    }
   ],
   "source": [
    "multilabel_binarizer.classes_"
   ]
  },
  {
   "cell_type": "code",
   "execution_count": null,
   "id": "74e1627c",
   "metadata": {},
   "outputs": [],
   "source": []
  }
 ],
 "metadata": {
  "kernelspec": {
   "display_name": "Python 3 (ipykernel)",
   "language": "python",
   "name": "python3"
  },
  "language_info": {
   "codemirror_mode": {
    "name": "ipython",
    "version": 3
   },
   "file_extension": ".py",
   "mimetype": "text/x-python",
   "name": "python",
   "nbconvert_exporter": "python",
   "pygments_lexer": "ipython3",
   "version": "3.9.7"
  }
 },
 "nbformat": 4,
 "nbformat_minor": 5
}
